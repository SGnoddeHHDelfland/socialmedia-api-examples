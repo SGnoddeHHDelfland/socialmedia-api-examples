{
 "cells": [
  {
   "cell_type": "markdown",
   "metadata": {},
   "source": [
    "# Voorbeeld gebruik van Tweepy: krijg data vanuit de Twitter API met Python"
   ]
  },
  {
   "cell_type": "markdown",
   "metadata": {},
   "source": [
    "### Laad packages"
   ]
  },
  {
   "cell_type": "code",
   "execution_count": 1,
   "metadata": {},
   "outputs": [],
   "source": [
    "import os\n",
    "from dotenv import load_dotenv\n",
    "import pandas as pd\n",
    "import tweepy\n",
    "from tweepy_helper import tweets_to_df"
   ]
  },
  {
   "cell_type": "markdown",
   "metadata": {},
   "source": [
    "### Laad Twitter dev account gegevens\n",
    "We gebruiken in dit voorbeeld de dotenv methode om secrets in te laden. Zie het voorbeeld op: https://pypi.org/project/python-dotenv/\n",
    "\n",
    "We gebruiken in dit voorbeeld alleen de bearer token om verbinding te maken."
   ]
  },
  {
   "cell_type": "code",
   "execution_count": 2,
   "metadata": {},
   "outputs": [],
   "source": [
    "load_dotenv()\n",
    "\n",
    "# ACCOUNT_NAME = os.getenv('ACCOUNT_NAME')\n",
    "# ACCOUNT_KEY = os.getenv('ACCOUNT_PASSWORD')\n",
    "# API_KEY = os.getenv('API_KEY')\n",
    "# API_KEY_SECRET = os.getenv('API_KEY_SECRET')\n",
    "BEARER_TOKEN = os.getenv('BEARER_TOKEN')"
   ]
  },
  {
   "cell_type": "markdown",
   "metadata": {},
   "source": [
    "### Download tweets met query\n",
    "`-is:retweet` betekent dat er geen retweets opgehaal worden."
   ]
  },
  {
   "cell_type": "code",
   "execution_count": 3,
   "metadata": {},
   "outputs": [],
   "source": [
    "\n",
    "client = tweepy.Client(bearer_token=BEARER_TOKEN)\n",
    "query = '\"klimaat\" -is:retweet'\n",
    "tweets = client.search_recent_tweets(\n",
    "    query=query,\n",
    "    tweet_fields=['context_annotations', 'created_at'],\n",
    "    max_results=100\n",
    "    )"
   ]
  },
  {
   "cell_type": "markdown",
   "metadata": {},
   "source": [
    "### Algemene informatie over alle tweets"
   ]
  },
  {
   "cell_type": "code",
   "execution_count": 4,
   "metadata": {},
   "outputs": [
    {
     "data": {
      "text/plain": [
       "{'newest_id': '1559544631922245638',\n",
       " 'oldest_id': '1559521918897848320',\n",
       " 'result_count': 100,\n",
       " 'next_token': 'b26v89c19zqg8o3fpz5nwrka0khn6fk93s95kp6ihy6wt'}"
      ]
     },
     "execution_count": 4,
     "metadata": {},
     "output_type": "execute_result"
    }
   ],
   "source": [
    "tweets.meta"
   ]
  },
  {
   "cell_type": "markdown",
   "metadata": {},
   "source": [
    "### Save tweets naar CSV"
   ]
  },
  {
   "cell_type": "code",
   "execution_count": 5,
   "metadata": {},
   "outputs": [
    {
     "name": "stdout",
     "output_type": "stream",
     "text": [
      "Let op: kan dubbele tweets bevatten door context annotations\n"
     ]
    }
   ],
   "source": [
    "tweets_to_df(tweets).to_csv(\"test_output.csv\");"
   ]
  }
 ],
 "metadata": {
  "kernelspec": {
   "display_name": "Python 3.8.0 ('twitter-api-2')",
   "language": "python",
   "name": "python3"
  },
  "language_info": {
   "codemirror_mode": {
    "name": "ipython",
    "version": 3
   },
   "file_extension": ".py",
   "mimetype": "text/x-python",
   "name": "python",
   "nbconvert_exporter": "python",
   "pygments_lexer": "ipython3",
   "version": "3.8.0"
  },
  "orig_nbformat": 4,
  "vscode": {
   "interpreter": {
    "hash": "38e40eb47106fda455c12666ee3e3d7b53d160fde57f8fea8d4cb03f7d68eccd"
   }
  }
 },
 "nbformat": 4,
 "nbformat_minor": 2
}
